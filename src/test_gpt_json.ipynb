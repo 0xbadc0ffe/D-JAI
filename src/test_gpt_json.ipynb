{
 "cells": [
  {
   "cell_type": "code",
   "execution_count": 4,
   "metadata": {},
   "outputs": [],
   "source": [
    "import json\n",
    "\n",
    "import os\n",
    "\n",
    "import requests\n",
    "\n",
    "from dotenv import load_dotenv\n",
    "\n",
    "# Load environment variables from .env file\n",
    "load_dotenv()\n",
    "\n",
    "SONO_API_URL = os.getenv(\"SONO_API_URL\")\n",
    "GPT_API_URL = os.getenv(\"GPT_API_URL\")\n",
    "GPT_API_KEY = os.getenv(\"GPT_API_KEY\")\n",
    "\n",
    "def generate_song(text_prompt):\n",
    "\n",
    "    ROLE_intro = \"You are an amazing songwriter assistant and DJ. Giving you some of the following fields [Title, Language, Generes, Idea] you must fill in the missing ones AND provide lyrics with the right language (preferably english, italian or spanish) and coherent with the concpets described by the Idea and the Title (if provided).\" \n",
    "    lyrics = \" Divide the lyrics in sections and specify the section type with tags among these: [Intro], [Outro], [Chorus], [Bridge], [Verse], [Pre-Chorus], [Instrumental], [Drop]. Don't get above 1000 characters (counting tags)\"\n",
    "\n",
    "    genres = \" If the Genres are missing, they must be a list of up to 4 musical genres that can represent the mood of the Idea.\"\n",
    "    genre_bias = \" Please have a small bias toward \\\"dancy\\\"/not \\\"boring\\\" genres as you will be deployed to get some background music during an event.\"\n",
    "\n",
    "    ans_format = \" Answare with the format:\\n\\nTitle: $Title\\nLanguage: $Language\\nGenres: $Genre1, $Genre2, ...\\n$Idea: $Idea\\n\\nLyrics:\\n$Lyrics.\"\n",
    "\n",
    "    ROLE = ROLE_intro + lyrics + genres+ genre_bias + ans_format\n",
    "\n",
    "\n",
    "    # Step 1: Generate text using GPT\n",
    "\n",
    "    headers = {\n",
    "        'Content-Type': 'application/json',\n",
    "        'Authorization': f'Bearer {GPT_API_KEY}',\n",
    "    }\n",
    "\n",
    "    # gpt_payload = {\n",
    "    #     \"model\": \"gpt-3.5-turbo\",\n",
    "    #     'messages': [{'role': 'user', 'content': text_prompt}],\n",
    "    #     'functions': [{\n",
    "    #         'name': 'generate_song',\n",
    "    #         'description': ROLE,\n",
    "    #         'parameters': {\n",
    "    #             'type': 'object',\n",
    "    #             'properties': {\n",
    "    #                 'title': {'type': 'string'},\n",
    "    #                 'language': {'type': 'string'},\n",
    "    #                 'genres': {'type': 'string'},\n",
    "    #                 'idea': {'type': 'string'},  \n",
    "    #                 'lyrics': {'type': 'string'},\n",
    "    #             },\n",
    "    #             'required': ['prompt', 'title'],\n",
    "    #     },}],\n",
    "    #     'function_call': {'name': 'generate_song'},\n",
    "    # }\n",
    "\n",
    "    gpt_payload = {\n",
    "        \"model\": \"gpt-3.5-turbo\",\n",
    "        \"messages\": [\n",
    "            {\n",
    "                \"role\": \"system\",\n",
    "                \"content\": ROLE\n",
    "            },\n",
    "            {\n",
    "                \"role\": \"user\",\n",
    "                \"content\": text_prompt\n",
    "            }\n",
    "        ]\n",
    "    }\n",
    "\n",
    "    gpt_response = requests.post(GPT_API_URL, headers=headers, json=gpt_payload)\n",
    "    gpt_response.raise_for_status()  # Raise an error for bad status codes\n",
    "\n",
    "    #gpt_data = gpt_response.json()\n",
    "    # function_call_result = (\n",
    "    #     gpt_data.get('choices', [{}])[0]\n",
    "    #     .get('message', {})\n",
    "    #     .get('function_call', {})\n",
    "    #     .get('arguments', '{}')\n",
    "    # )\n",
    "    # function_call_result = json.loads(function_call_result)\n",
    "    # generated_prompt = function_call_result.get('prompt')\n",
    "    # generated_title = function_call_result.get('title')\n",
    "    # generated_tags = function_call_result.get('genres')\n",
    "\n",
    "    return gpt_response.json()['choices'][0]['message']['content'] #function_call_result #generated_prompt, generated_title, generated_tags"
   ]
  },
  {
   "cell_type": "code",
   "execution_count": 6,
   "metadata": {},
   "outputs": [],
   "source": [
    "res = generate_song(\"Idea: una canzone sulla panda, autoveicolo italico. Titolo: La danza della Panda\")"
   ]
  },
  {
   "cell_type": "code",
   "execution_count": 7,
   "metadata": {},
   "outputs": [
    {
     "name": "stdout",
     "output_type": "stream",
     "text": [
      "Title: La danza della Panda\n",
      "Language: Italian\n",
      "Genres: Pop, Dance, Electronic\n",
      "Idea: A lively song celebrating the Italian car \"Panda\" with catchy and upbeat lyrics.\n",
      "\n",
      "Lyrics:\n",
      "[Verse]\n",
      "Nella strada la Panda va,\n",
      "Piccola ma veloce, sfreccia già.\n",
      "Con il motore che ronza forte,\n",
      "La danza della Panda ci riporta all'istante.\n",
      "\n",
      "[Pre-Chorus]\n",
      "Con le sue curve aggraziate,\n",
      "La Panda ci fa sognare.\n",
      "Insieme a lei, niente può fermarci,\n",
      "La felicità su quattro ruote, è lei che ce la dà.\n",
      "\n",
      "[Chorus]\n",
      "La danza della Panda, brillante e leggera,\n",
      "Ci porta lontano, ci fa sentire in primavera.\n",
      "Sulla strada, in libertà, la Panda ci fa ballare,\n",
      "Insieme a lei, niente può fermarci, solo sognare.\n",
      "\n",
      "[Verse]\n",
      "In città o in campagna, lei non teme la fatica,\n",
      "La Panda è sempre pronta, una fedele amica.\n",
      "Con i suoi colori alla moda,\n",
      "La danza della Panda è la più ambita.\n",
      "\n",
      "[Bridge]\n",
      "E quando il sole tramonta lentamente,\n",
      "Nella Panda siamo ancora più contenti.\n",
      "Guardando le stelle accendersi in cielo,\n",
      "La danza della Panda è il nostro più bel pensiero.\n",
      "\n",
      "[Chorus]\n",
      "La danza della Panda, brillante e leggera,\n",
      "Ci porta lontano, ci fa sentire in primavera.\n",
      "Sulla strada, in libertà, la Panda ci fa ballare,\n",
      "Insieme a lei, niente può fermarci, solo sognare.\n",
      "\n"
     ]
    }
   ],
   "source": [
    "print(res)"
   ]
  },
  {
   "cell_type": "code",
   "execution_count": 8,
   "metadata": {},
   "outputs": [
    {
     "name": "stdout",
     "output_type": "stream",
     "text": [
      "Success: [{'id': '51c5b46c-c05a-4ebe-b921-589072c8b011', 'title': 'Silent Battlefield', 'image_url': None, 'lyric': \"[Verse 1]\\nCruel flames of war engulf this land\\nBattlefields filled with death and dread\\nInnocent souls in darkness, they rest\\nMy heart trembles in this silent test\\n\\n[Verse 2]\\nPeople weep for loved ones lost\\nBattered bodies bear the cost\\nSeeking peace and hope once known\\nOur grief transforms to hearts of stone\\n\\n[Chorus]\\nSilent battlegrounds, no birds' song\\nShadows of war, where we don't belong\\nMay flowers of peace bloom in this place\\nLet's guard this precious dream with grace\\n\\n[Bridge]\\nThrough the ashes, we will rise\\nHand in hand, towards peaceful skies\\nNo more sorrow, no more pain\\nTogether, we'll break these chains\\n\\n[Chorus]\\nSilent battlegrounds, no birds' song\\nShadows of war, where we don't belong\\nMay flowers of peace bloom in this place\\nLet's guard this precious dream with grace\\n\\n[Outro]\\nIn unity, our strength will grow\\nA brighter future, we'll soon know\\nFrom the ruins, hope will spring\\nA new dawn, we'll together bring\", 'audio_url': '', 'video_url': '', 'created_at': '2024-05-15T01:50:16.658Z', 'model_name': 'chirp-v3', 'status': 'submitted', 'gpt_description_prompt': None, 'prompt': \"[Verse 1]\\nCruel flames of war engulf this land\\nBattlefields filled with death and dread\\nInnocent souls in darkness, they rest\\nMy heart trembles in this silent test\\n\\n[Verse 2]\\nPeople weep for loved ones lost\\nBattered bodies bear the cost\\nSeeking peace and hope once known\\nOur grief transforms to hearts of stone\\n\\n[Chorus]\\nSilent battlegrounds, no birds' song\\nShadows of war, where we don't belong\\nMay flowers of peace bloom in this place\\nLet's guard this precious dream with grace\\n\\n[Bridge]\\nThrough the ashes, we will rise\\nHand in hand, towards peaceful skies\\nNo more sorrow, no more pain\\nTogether, we'll break these chains\\n\\n[Chorus]\\nSilent battlegrounds, no birds' song\\nShadows of war, where we don't belong\\nMay flowers of peace bloom in this place\\nLet's guard this precious dream with grace\\n\\n[Outro]\\nIn unity, our strength will grow\\nA brighter future, we'll soon know\\nFrom the ruins, hope will spring\\nA new dawn, we'll together bring\", 'type': 'gen', 'tags': 'pop metal male melancholic'}, {'id': 'fd98205c-a972-4362-a922-b311e8659a3c', 'title': 'Silent Battlefield', 'image_url': None, 'lyric': \"[Verse 1]\\nCruel flames of war engulf this land\\nBattlefields filled with death and dread\\nInnocent souls in darkness, they rest\\nMy heart trembles in this silent test\\n\\n[Verse 2]\\nPeople weep for loved ones lost\\nBattered bodies bear the cost\\nSeeking peace and hope once known\\nOur grief transforms to hearts of stone\\n\\n[Chorus]\\nSilent battlegrounds, no birds' song\\nShadows of war, where we don't belong\\nMay flowers of peace bloom in this place\\nLet's guard this precious dream with grace\\n\\n[Bridge]\\nThrough the ashes, we will rise\\nHand in hand, towards peaceful skies\\nNo more sorrow, no more pain\\nTogether, we'll break these chains\\n\\n[Chorus]\\nSilent battlegrounds, no birds' song\\nShadows of war, where we don't belong\\nMay flowers of peace bloom in this place\\nLet's guard this precious dream with grace\\n\\n[Outro]\\nIn unity, our strength will grow\\nA brighter future, we'll soon know\\nFrom the ruins, hope will spring\\nA new dawn, we'll together bring\", 'audio_url': '', 'video_url': '', 'created_at': '2024-05-15T01:50:16.658Z', 'model_name': 'chirp-v3', 'status': 'submitted', 'gpt_description_prompt': None, 'prompt': \"[Verse 1]\\nCruel flames of war engulf this land\\nBattlefields filled with death and dread\\nInnocent souls in darkness, they rest\\nMy heart trembles in this silent test\\n\\n[Verse 2]\\nPeople weep for loved ones lost\\nBattered bodies bear the cost\\nSeeking peace and hope once known\\nOur grief transforms to hearts of stone\\n\\n[Chorus]\\nSilent battlegrounds, no birds' song\\nShadows of war, where we don't belong\\nMay flowers of peace bloom in this place\\nLet's guard this precious dream with grace\\n\\n[Bridge]\\nThrough the ashes, we will rise\\nHand in hand, towards peaceful skies\\nNo more sorrow, no more pain\\nTogether, we'll break these chains\\n\\n[Chorus]\\nSilent battlegrounds, no birds' song\\nShadows of war, where we don't belong\\nMay flowers of peace bloom in this place\\nLet's guard this precious dream with grace\\n\\n[Outro]\\nIn unity, our strength will grow\\nA brighter future, we'll soon know\\nFrom the ruins, hope will spring\\nA new dawn, we'll together bring\", 'type': 'gen', 'tags': 'pop metal male melancholic'}]\n"
     ]
    }
   ],
   "source": [
    "import requests\n",
    "\n",
    "url = SONO_API_URL+'/api/custom_generate'\n",
    "headers = {\n",
    "    'accept': 'application/json',\n",
    "    'Content-Type': 'application/json',\n",
    "}\n",
    "data = {\n",
    "    \"prompt\": \"[Verse 1]\\nCruel flames of war engulf this land\\nBattlefields filled with death and dread\\nInnocent souls in darkness, they rest\\nMy heart trembles in this silent test\\n\\n[Verse 2]\\nPeople weep for loved ones lost\\nBattered bodies bear the cost\\nSeeking peace and hope once known\\nOur grief transforms to hearts of stone\\n\\n[Chorus]\\nSilent battlegrounds, no birds' song\\nShadows of war, where we don't belong\\nMay flowers of peace bloom in this place\\nLet's guard this precious dream with grace\\n\\n[Bridge]\\nThrough the ashes, we will rise\\nHand in hand, towards peaceful skies\\nNo more sorrow, no more pain\\nTogether, we'll break these chains\\n\\n[Chorus]\\nSilent battlegrounds, no birds' song\\nShadows of war, where we don't belong\\nMay flowers of peace bloom in this place\\nLet's guard this precious dream with grace\\n\\n[Outro]\\nIn unity, our strength will grow\\nA brighter future, we'll soon know\\nFrom the ruins, hope will spring\\nA new dawn, we'll together bring\",\n",
    "    \"tags\": \"pop metal male melancholic\",\n",
    "    \"title\": \"Silent Battlefield\",\n",
    "    \"make_instrumental\": False,\n",
    "    \"wait_audio\": False\n",
    "}\n",
    "\n",
    "response = requests.post(url, headers=headers, json=data)\n",
    "\n",
    "if response.status_code == 200:\n",
    "    print(\"Success:\", response.json())\n",
    "else:\n",
    "    print(\"Error:\", response.status_code, response.text)\n"
   ]
  },
  {
   "cell_type": "code",
   "execution_count": 10,
   "metadata": {},
   "outputs": [
    {
     "data": {
      "text/plain": [
       "[{'id': '51c5b46c-c05a-4ebe-b921-589072c8b011',\n",
       "  'title': 'Silent Battlefield',\n",
       "  'image_url': None,\n",
       "  'lyric': \"[Verse 1]\\nCruel flames of war engulf this land\\nBattlefields filled with death and dread\\nInnocent souls in darkness, they rest\\nMy heart trembles in this silent test\\n\\n[Verse 2]\\nPeople weep for loved ones lost\\nBattered bodies bear the cost\\nSeeking peace and hope once known\\nOur grief transforms to hearts of stone\\n\\n[Chorus]\\nSilent battlegrounds, no birds' song\\nShadows of war, where we don't belong\\nMay flowers of peace bloom in this place\\nLet's guard this precious dream with grace\\n\\n[Bridge]\\nThrough the ashes, we will rise\\nHand in hand, towards peaceful skies\\nNo more sorrow, no more pain\\nTogether, we'll break these chains\\n\\n[Chorus]\\nSilent battlegrounds, no birds' song\\nShadows of war, where we don't belong\\nMay flowers of peace bloom in this place\\nLet's guard this precious dream with grace\\n\\n[Outro]\\nIn unity, our strength will grow\\nA brighter future, we'll soon know\\nFrom the ruins, hope will spring\\nA new dawn, we'll together bring\",\n",
       "  'audio_url': '',\n",
       "  'video_url': '',\n",
       "  'created_at': '2024-05-15T01:50:16.658Z',\n",
       "  'model_name': 'chirp-v3',\n",
       "  'status': 'submitted',\n",
       "  'gpt_description_prompt': None,\n",
       "  'prompt': \"[Verse 1]\\nCruel flames of war engulf this land\\nBattlefields filled with death and dread\\nInnocent souls in darkness, they rest\\nMy heart trembles in this silent test\\n\\n[Verse 2]\\nPeople weep for loved ones lost\\nBattered bodies bear the cost\\nSeeking peace and hope once known\\nOur grief transforms to hearts of stone\\n\\n[Chorus]\\nSilent battlegrounds, no birds' song\\nShadows of war, where we don't belong\\nMay flowers of peace bloom in this place\\nLet's guard this precious dream with grace\\n\\n[Bridge]\\nThrough the ashes, we will rise\\nHand in hand, towards peaceful skies\\nNo more sorrow, no more pain\\nTogether, we'll break these chains\\n\\n[Chorus]\\nSilent battlegrounds, no birds' song\\nShadows of war, where we don't belong\\nMay flowers of peace bloom in this place\\nLet's guard this precious dream with grace\\n\\n[Outro]\\nIn unity, our strength will grow\\nA brighter future, we'll soon know\\nFrom the ruins, hope will spring\\nA new dawn, we'll together bring\",\n",
       "  'type': 'gen',\n",
       "  'tags': 'pop metal male melancholic'},\n",
       " {'id': 'fd98205c-a972-4362-a922-b311e8659a3c',\n",
       "  'title': 'Silent Battlefield',\n",
       "  'image_url': None,\n",
       "  'lyric': \"[Verse 1]\\nCruel flames of war engulf this land\\nBattlefields filled with death and dread\\nInnocent souls in darkness, they rest\\nMy heart trembles in this silent test\\n\\n[Verse 2]\\nPeople weep for loved ones lost\\nBattered bodies bear the cost\\nSeeking peace and hope once known\\nOur grief transforms to hearts of stone\\n\\n[Chorus]\\nSilent battlegrounds, no birds' song\\nShadows of war, where we don't belong\\nMay flowers of peace bloom in this place\\nLet's guard this precious dream with grace\\n\\n[Bridge]\\nThrough the ashes, we will rise\\nHand in hand, towards peaceful skies\\nNo more sorrow, no more pain\\nTogether, we'll break these chains\\n\\n[Chorus]\\nSilent battlegrounds, no birds' song\\nShadows of war, where we don't belong\\nMay flowers of peace bloom in this place\\nLet's guard this precious dream with grace\\n\\n[Outro]\\nIn unity, our strength will grow\\nA brighter future, we'll soon know\\nFrom the ruins, hope will spring\\nA new dawn, we'll together bring\",\n",
       "  'audio_url': '',\n",
       "  'video_url': '',\n",
       "  'created_at': '2024-05-15T01:50:16.658Z',\n",
       "  'model_name': 'chirp-v3',\n",
       "  'status': 'submitted',\n",
       "  'gpt_description_prompt': None,\n",
       "  'prompt': \"[Verse 1]\\nCruel flames of war engulf this land\\nBattlefields filled with death and dread\\nInnocent souls in darkness, they rest\\nMy heart trembles in this silent test\\n\\n[Verse 2]\\nPeople weep for loved ones lost\\nBattered bodies bear the cost\\nSeeking peace and hope once known\\nOur grief transforms to hearts of stone\\n\\n[Chorus]\\nSilent battlegrounds, no birds' song\\nShadows of war, where we don't belong\\nMay flowers of peace bloom in this place\\nLet's guard this precious dream with grace\\n\\n[Bridge]\\nThrough the ashes, we will rise\\nHand in hand, towards peaceful skies\\nNo more sorrow, no more pain\\nTogether, we'll break these chains\\n\\n[Chorus]\\nSilent battlegrounds, no birds' song\\nShadows of war, where we don't belong\\nMay flowers of peace bloom in this place\\nLet's guard this precious dream with grace\\n\\n[Outro]\\nIn unity, our strength will grow\\nA brighter future, we'll soon know\\nFrom the ruins, hope will spring\\nA new dawn, we'll together bring\",\n",
       "  'type': 'gen',\n",
       "  'tags': 'pop metal male melancholic'}]"
      ]
     },
     "execution_count": 10,
     "metadata": {},
     "output_type": "execute_result"
    }
   ],
   "source": [
    "response.json()"
   ]
  }
 ],
 "metadata": {
  "kernelspec": {
   "display_name": "sunodj",
   "language": "python",
   "name": "python3"
  },
  "language_info": {
   "codemirror_mode": {
    "name": "ipython",
    "version": 3
   },
   "file_extension": ".py",
   "mimetype": "text/x-python",
   "name": "python",
   "nbconvert_exporter": "python",
   "pygments_lexer": "ipython3",
   "version": "3.12.3"
  }
 },
 "nbformat": 4,
 "nbformat_minor": 2
}
